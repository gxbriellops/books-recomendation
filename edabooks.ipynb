{
 "cells": [
  {
   "cell_type": "markdown",
   "metadata": {},
   "source": [
    "### Importando bibliotecas necessárias\n",
    "- `pandas`: Manipulação e análise de dados.\n",
    "- `numpy`: Operações numéricas e matrizes.\n",
    "- `matplotlib.pyplot`: Geração de gráficos básicos.\n",
    "- `seaborn`: Visualizações estatísticas avançadas.\n"
   ]
  },
  {
   "cell_type": "code",
   "execution_count": 344,
   "metadata": {},
   "outputs": [],
   "source": [
    "import pandas as pd\n",
    "import numpy as np\n",
    "import matplotlib.pyplot as plt\n",
    "import seaborn as sns"
   ]
  },
  {
   "cell_type": "markdown",
   "metadata": {},
   "source": [
    "### Carregando a base de dados"
   ]
  },
  {
   "cell_type": "code",
   "execution_count": null,
   "metadata": {},
   "outputs": [
    {
     "name": "stderr",
     "output_type": "stream",
     "text": [
      "C:\\Users\\Gabriel Lopes\\AppData\\Local\\Temp\\ipykernel_16440\\2782996754.py:1: DtypeWarning: Columns (3) have mixed types. Specify dtype option on import or set low_memory=False.\n",
      "  dfBooks = pd.read_csv('archive/Books.csv')\n"
     ]
    }
   ],
   "source": [
    "# Carregando dataset com informações sobre livros\n",
    "dfBooks = pd.read_csv('archive/Books.csv')"
   ]
  },
  {
   "cell_type": "code",
   "execution_count": null,
   "metadata": {},
   "outputs": [],
   "source": [
    "# Carregando dataset com informações sobre usuários\n",
    "dfUsers = pd.read_csv('archive/Users.csv')"
   ]
  },
  {
   "cell_type": "code",
   "execution_count": null,
   "metadata": {},
   "outputs": [],
   "source": [
    "# Carregando dataset com informações sobre as avaliações dos livros\n",
    "dfRatings = pd.read_csv('archive/Ratings.csv')"
   ]
  },
  {
   "cell_type": "markdown",
   "metadata": {},
   "source": [
    "### Primeiras impressões dos dados\n",
    "Abaixo, visualizamos as primeiras linhas de cada conjunto de dados:\n",
    "- `dfUsers`: Contém informações sobre os usuários.\n",
    "- `dfBooks`: Contém detalhes sobre os livros, como título, autor, ano de publicação e editora.\n",
    "- `dfRatings`: Registra as avaliações dadas pelos usuários aos livros.\n"
   ]
  },
  {
   "cell_type": "code",
   "execution_count": 348,
   "metadata": {},
   "outputs": [
    {
     "data": {
      "text/html": [
       "<div>\n",
       "<style scoped>\n",
       "    .dataframe tbody tr th:only-of-type {\n",
       "        vertical-align: middle;\n",
       "    }\n",
       "\n",
       "    .dataframe tbody tr th {\n",
       "        vertical-align: top;\n",
       "    }\n",
       "\n",
       "    .dataframe thead th {\n",
       "        text-align: right;\n",
       "    }\n",
       "</style>\n",
       "<table border=\"1\" class=\"dataframe\">\n",
       "  <thead>\n",
       "    <tr style=\"text-align: right;\">\n",
       "      <th></th>\n",
       "      <th>User-ID</th>\n",
       "      <th>Location</th>\n",
       "      <th>Age</th>\n",
       "    </tr>\n",
       "  </thead>\n",
       "  <tbody>\n",
       "    <tr>\n",
       "      <th>0</th>\n",
       "      <td>1</td>\n",
       "      <td>nyc, new york, usa</td>\n",
       "      <td>NaN</td>\n",
       "    </tr>\n",
       "    <tr>\n",
       "      <th>1</th>\n",
       "      <td>2</td>\n",
       "      <td>stockton, california, usa</td>\n",
       "      <td>18.0</td>\n",
       "    </tr>\n",
       "    <tr>\n",
       "      <th>2</th>\n",
       "      <td>3</td>\n",
       "      <td>moscow, yukon territory, russia</td>\n",
       "      <td>NaN</td>\n",
       "    </tr>\n",
       "    <tr>\n",
       "      <th>3</th>\n",
       "      <td>4</td>\n",
       "      <td>porto, v.n.gaia, portugal</td>\n",
       "      <td>17.0</td>\n",
       "    </tr>\n",
       "    <tr>\n",
       "      <th>4</th>\n",
       "      <td>5</td>\n",
       "      <td>farnborough, hants, united kingdom</td>\n",
       "      <td>NaN</td>\n",
       "    </tr>\n",
       "  </tbody>\n",
       "</table>\n",
       "</div>"
      ],
      "text/plain": [
       "   User-ID                            Location   Age\n",
       "0        1                  nyc, new york, usa   NaN\n",
       "1        2           stockton, california, usa  18.0\n",
       "2        3     moscow, yukon territory, russia   NaN\n",
       "3        4           porto, v.n.gaia, portugal  17.0\n",
       "4        5  farnborough, hants, united kingdom   NaN"
      ]
     },
     "execution_count": 348,
     "metadata": {},
     "output_type": "execute_result"
    }
   ],
   "source": [
    "dfUsers.head()"
   ]
  },
  {
   "cell_type": "code",
   "execution_count": 349,
   "metadata": {},
   "outputs": [
    {
     "data": {
      "text/html": [
       "<div>\n",
       "<style scoped>\n",
       "    .dataframe tbody tr th:only-of-type {\n",
       "        vertical-align: middle;\n",
       "    }\n",
       "\n",
       "    .dataframe tbody tr th {\n",
       "        vertical-align: top;\n",
       "    }\n",
       "\n",
       "    .dataframe thead th {\n",
       "        text-align: right;\n",
       "    }\n",
       "</style>\n",
       "<table border=\"1\" class=\"dataframe\">\n",
       "  <thead>\n",
       "    <tr style=\"text-align: right;\">\n",
       "      <th></th>\n",
       "      <th>ISBN</th>\n",
       "      <th>Book-Title</th>\n",
       "      <th>Book-Author</th>\n",
       "      <th>Year-Of-Publication</th>\n",
       "      <th>Publisher</th>\n",
       "      <th>Image-URL-S</th>\n",
       "      <th>Image-URL-M</th>\n",
       "      <th>Image-URL-L</th>\n",
       "    </tr>\n",
       "  </thead>\n",
       "  <tbody>\n",
       "    <tr>\n",
       "      <th>0</th>\n",
       "      <td>0195153448</td>\n",
       "      <td>Classical Mythology</td>\n",
       "      <td>Mark P. O. Morford</td>\n",
       "      <td>2002</td>\n",
       "      <td>Oxford University Press</td>\n",
       "      <td>http://images.amazon.com/images/P/0195153448.0...</td>\n",
       "      <td>http://images.amazon.com/images/P/0195153448.0...</td>\n",
       "      <td>http://images.amazon.com/images/P/0195153448.0...</td>\n",
       "    </tr>\n",
       "    <tr>\n",
       "      <th>1</th>\n",
       "      <td>0002005018</td>\n",
       "      <td>Clara Callan</td>\n",
       "      <td>Richard Bruce Wright</td>\n",
       "      <td>2001</td>\n",
       "      <td>HarperFlamingo Canada</td>\n",
       "      <td>http://images.amazon.com/images/P/0002005018.0...</td>\n",
       "      <td>http://images.amazon.com/images/P/0002005018.0...</td>\n",
       "      <td>http://images.amazon.com/images/P/0002005018.0...</td>\n",
       "    </tr>\n",
       "    <tr>\n",
       "      <th>2</th>\n",
       "      <td>0060973129</td>\n",
       "      <td>Decision in Normandy</td>\n",
       "      <td>Carlo D'Este</td>\n",
       "      <td>1991</td>\n",
       "      <td>HarperPerennial</td>\n",
       "      <td>http://images.amazon.com/images/P/0060973129.0...</td>\n",
       "      <td>http://images.amazon.com/images/P/0060973129.0...</td>\n",
       "      <td>http://images.amazon.com/images/P/0060973129.0...</td>\n",
       "    </tr>\n",
       "    <tr>\n",
       "      <th>3</th>\n",
       "      <td>0374157065</td>\n",
       "      <td>Flu: The Story of the Great Influenza Pandemic...</td>\n",
       "      <td>Gina Bari Kolata</td>\n",
       "      <td>1999</td>\n",
       "      <td>Farrar Straus Giroux</td>\n",
       "      <td>http://images.amazon.com/images/P/0374157065.0...</td>\n",
       "      <td>http://images.amazon.com/images/P/0374157065.0...</td>\n",
       "      <td>http://images.amazon.com/images/P/0374157065.0...</td>\n",
       "    </tr>\n",
       "    <tr>\n",
       "      <th>4</th>\n",
       "      <td>0393045218</td>\n",
       "      <td>The Mummies of Urumchi</td>\n",
       "      <td>E. J. W. Barber</td>\n",
       "      <td>1999</td>\n",
       "      <td>W. W. Norton &amp;amp; Company</td>\n",
       "      <td>http://images.amazon.com/images/P/0393045218.0...</td>\n",
       "      <td>http://images.amazon.com/images/P/0393045218.0...</td>\n",
       "      <td>http://images.amazon.com/images/P/0393045218.0...</td>\n",
       "    </tr>\n",
       "  </tbody>\n",
       "</table>\n",
       "</div>"
      ],
      "text/plain": [
       "         ISBN                                         Book-Title  \\\n",
       "0  0195153448                                Classical Mythology   \n",
       "1  0002005018                                       Clara Callan   \n",
       "2  0060973129                               Decision in Normandy   \n",
       "3  0374157065  Flu: The Story of the Great Influenza Pandemic...   \n",
       "4  0393045218                             The Mummies of Urumchi   \n",
       "\n",
       "            Book-Author Year-Of-Publication                   Publisher  \\\n",
       "0    Mark P. O. Morford                2002     Oxford University Press   \n",
       "1  Richard Bruce Wright                2001       HarperFlamingo Canada   \n",
       "2          Carlo D'Este                1991             HarperPerennial   \n",
       "3      Gina Bari Kolata                1999        Farrar Straus Giroux   \n",
       "4       E. J. W. Barber                1999  W. W. Norton &amp; Company   \n",
       "\n",
       "                                         Image-URL-S  \\\n",
       "0  http://images.amazon.com/images/P/0195153448.0...   \n",
       "1  http://images.amazon.com/images/P/0002005018.0...   \n",
       "2  http://images.amazon.com/images/P/0060973129.0...   \n",
       "3  http://images.amazon.com/images/P/0374157065.0...   \n",
       "4  http://images.amazon.com/images/P/0393045218.0...   \n",
       "\n",
       "                                         Image-URL-M  \\\n",
       "0  http://images.amazon.com/images/P/0195153448.0...   \n",
       "1  http://images.amazon.com/images/P/0002005018.0...   \n",
       "2  http://images.amazon.com/images/P/0060973129.0...   \n",
       "3  http://images.amazon.com/images/P/0374157065.0...   \n",
       "4  http://images.amazon.com/images/P/0393045218.0...   \n",
       "\n",
       "                                         Image-URL-L  \n",
       "0  http://images.amazon.com/images/P/0195153448.0...  \n",
       "1  http://images.amazon.com/images/P/0002005018.0...  \n",
       "2  http://images.amazon.com/images/P/0060973129.0...  \n",
       "3  http://images.amazon.com/images/P/0374157065.0...  \n",
       "4  http://images.amazon.com/images/P/0393045218.0...  "
      ]
     },
     "execution_count": 349,
     "metadata": {},
     "output_type": "execute_result"
    }
   ],
   "source": [
    "dfBooks.head()"
   ]
  },
  {
   "cell_type": "code",
   "execution_count": 350,
   "metadata": {},
   "outputs": [
    {
     "data": {
      "text/html": [
       "<div>\n",
       "<style scoped>\n",
       "    .dataframe tbody tr th:only-of-type {\n",
       "        vertical-align: middle;\n",
       "    }\n",
       "\n",
       "    .dataframe tbody tr th {\n",
       "        vertical-align: top;\n",
       "    }\n",
       "\n",
       "    .dataframe thead th {\n",
       "        text-align: right;\n",
       "    }\n",
       "</style>\n",
       "<table border=\"1\" class=\"dataframe\">\n",
       "  <thead>\n",
       "    <tr style=\"text-align: right;\">\n",
       "      <th></th>\n",
       "      <th>User-ID</th>\n",
       "      <th>ISBN</th>\n",
       "      <th>Book-Rating</th>\n",
       "    </tr>\n",
       "  </thead>\n",
       "  <tbody>\n",
       "    <tr>\n",
       "      <th>0</th>\n",
       "      <td>276725</td>\n",
       "      <td>034545104X</td>\n",
       "      <td>0</td>\n",
       "    </tr>\n",
       "    <tr>\n",
       "      <th>1</th>\n",
       "      <td>276726</td>\n",
       "      <td>0155061224</td>\n",
       "      <td>5</td>\n",
       "    </tr>\n",
       "    <tr>\n",
       "      <th>2</th>\n",
       "      <td>276727</td>\n",
       "      <td>0446520802</td>\n",
       "      <td>0</td>\n",
       "    </tr>\n",
       "    <tr>\n",
       "      <th>3</th>\n",
       "      <td>276729</td>\n",
       "      <td>052165615X</td>\n",
       "      <td>3</td>\n",
       "    </tr>\n",
       "    <tr>\n",
       "      <th>4</th>\n",
       "      <td>276729</td>\n",
       "      <td>0521795028</td>\n",
       "      <td>6</td>\n",
       "    </tr>\n",
       "  </tbody>\n",
       "</table>\n",
       "</div>"
      ],
      "text/plain": [
       "   User-ID        ISBN  Book-Rating\n",
       "0   276725  034545104X            0\n",
       "1   276726  0155061224            5\n",
       "2   276727  0446520802            0\n",
       "3   276729  052165615X            3\n",
       "4   276729  0521795028            6"
      ]
     },
     "execution_count": 350,
     "metadata": {},
     "output_type": "execute_result"
    }
   ],
   "source": [
    "dfRatings.head()"
   ]
  },
  {
   "cell_type": "markdown",
   "metadata": {},
   "source": [
    "### Renomeando colunas\n",
    "Os nomes das colunas foram padronizados para facilitar a manipulação dos dados:\n",
    "- `User-ID` → `user_id`\n",
    "- `Book-Author` → `author`\n",
    "- `Year-Of-Publication` → `year`\n",
    "- `Publisher` → `publisher`\n",
    "- `Book-Title` → `title`\n"
   ]
  },
  {
   "cell_type": "code",
   "execution_count": null,
   "metadata": {},
   "outputs": [],
   "source": [
    "# Renomeando colunas para padronizar os nomes e facilitar a análise\n",
    "dfBooks.rename(columns={'User-ID': 'user_id', 'Book-Author': 'author', \n",
    "                        'Year-Of-Publication': 'year', 'Publisher': 'publisher', \n",
    "                        'Book-Title': 'title'}, inplace=True)\n",
    "\n",
    "dfRatings.rename(columns={'User-ID': 'user_id', 'Book-Rating': 'rating'}, inplace=True)"
   ]
  },
  {
   "cell_type": "markdown",
   "metadata": {},
   "source": [
    "### Verificando a frequência de avaliações dos usuários\n",
    "Aqui, contamos quantas avaliações cada usuário fez para identificar padrões de engajamento.\n"
   ]
  },
  {
   "cell_type": "code",
   "execution_count": 353,
   "metadata": {},
   "outputs": [],
   "source": [
    "count = dfRatings['user_id'].value_counts()"
   ]
  },
  {
   "cell_type": "code",
   "execution_count": 354,
   "metadata": {},
   "outputs": [
    {
     "data": {
      "text/plain": [
       "user_id\n",
       "11676     13602\n",
       "198711     7550\n",
       "153662     6109\n",
       "98391      5891\n",
       "35859      5850\n",
       "          ...  \n",
       "116180        1\n",
       "116166        1\n",
       "116154        1\n",
       "116137        1\n",
       "276723        1\n",
       "Name: count, Length: 105283, dtype: int64"
      ]
     },
     "execution_count": 354,
     "metadata": {},
     "output_type": "execute_result"
    }
   ],
   "source": [
    "count"
   ]
  },
  {
   "cell_type": "markdown",
   "metadata": {},
   "source": [
    "Podemos perceber que há usuários que avaliam poucos livros e outros que mantêm um hábito de leitura mais intenso, avaliando muitos livros.  \n",
    "Para nossa análise, focaremos nos usuários mais ativos, pois suas avaliações podem servir como parâmetro para o modelo."
   ]
  },
  {
   "cell_type": "markdown",
   "metadata": {},
   "source": [
    "### Filtrando usuários com mais de 250 avaliações\n",
    "Como queremos dados de usuários mais engajados, filtramos aqueles que avaliaram mais de 250 livros."
   ]
  },
  {
   "cell_type": "code",
   "execution_count": 355,
   "metadata": {},
   "outputs": [],
   "source": [
    "dfRatings = dfRatings[dfRatings['user_id'].isin(count[count > 250].index)]"
   ]
  },
  {
   "cell_type": "code",
   "execution_count": 356,
   "metadata": {},
   "outputs": [
    {
     "data": {
      "text/plain": [
       "(480219, 3)"
      ]
     },
     "execution_count": 356,
     "metadata": {},
     "output_type": "execute_result"
    }
   ],
   "source": [
    "dfRatings.shape"
   ]
  },
  {
   "cell_type": "markdown",
   "metadata": {},
   "source": [
    "Após a filtragem, removemos aproximadamente metade dos dados, deixando apenas usuários com mais de 250 avaliações."
   ]
  },
  {
   "cell_type": "markdown",
   "metadata": {},
   "source": [
    "### Unindo as avaliações com os dados dos livros\n",
    "Agora, juntamos as avaliações filtradas com as informações dos livros, usando a chave `ISBN`."
   ]
  },
  {
   "cell_type": "code",
   "execution_count": 357,
   "metadata": {},
   "outputs": [],
   "source": [
    "rating_books = dfRatings.merge(dfBooks, on='ISBN')"
   ]
  },
  {
   "cell_type": "code",
   "execution_count": 358,
   "metadata": {},
   "outputs": [
    {
     "data": {
      "text/plain": [
       "(444950, 10)"
      ]
     },
     "execution_count": 358,
     "metadata": {},
     "output_type": "execute_result"
    }
   ],
   "source": [
    "rating_books.shape"
   ]
  },
  {
   "cell_type": "code",
   "execution_count": 359,
   "metadata": {},
   "outputs": [],
   "source": [
    "num_rating = rating_books.groupby('title')['rating'].count().reset_index()"
   ]
  },
  {
   "cell_type": "markdown",
   "metadata": {},
   "source": [
    "### Contagem de avaliações por livro\n",
    "Aqui, calculamos quantas avaliações cada livro recebeu no dataset."
   ]
  },
  {
   "cell_type": "code",
   "execution_count": 360,
   "metadata": {},
   "outputs": [],
   "source": [
    "num_rating.rename(columns={'rating': 'num_rating'}, inplace=True)"
   ]
  },
  {
   "cell_type": "code",
   "execution_count": 361,
   "metadata": {},
   "outputs": [
    {
     "data": {
      "text/plain": [
       "(152863, 2)"
      ]
     },
     "execution_count": 361,
     "metadata": {},
     "output_type": "execute_result"
    }
   ],
   "source": [
    "num_rating.shape"
   ]
  },
  {
   "cell_type": "markdown",
   "metadata": {},
   "source": [
    "### Unindo as a contagem de avaliações com os dados dos livros\n",
    "Agora, juntamos as contagens de avaliações filtradas com as informações dos livros, usando a chave `title`."
   ]
  },
  {
   "cell_type": "code",
   "execution_count": 362,
   "metadata": {},
   "outputs": [],
   "source": [
    "final_data = rating_books.merge(num_rating, on='title')"
   ]
  },
  {
   "cell_type": "code",
   "execution_count": 363,
   "metadata": {},
   "outputs": [
    {
     "data": {
      "text/plain": [
       "(444950, 11)"
      ]
     },
     "execution_count": 363,
     "metadata": {},
     "output_type": "execute_result"
    }
   ],
   "source": [
    "final_data.shape"
   ]
  },
  {
   "cell_type": "markdown",
   "metadata": {},
   "source": [
    "### Filtrando livros com 60 avaliações ou mais\n",
    "Como queremos dados de livros com hatings maior, filtramos aqueles que somam 60 avaliações ou mais."
   ]
  },
  {
   "cell_type": "code",
   "execution_count": 364,
   "metadata": {},
   "outputs": [],
   "source": [
    "final_data = final_data[final_data['num_rating'] >= 60]"
   ]
  },
  {
   "cell_type": "code",
   "execution_count": 365,
   "metadata": {},
   "outputs": [
    {
     "data": {
      "text/plain": [
       "(37420, 11)"
      ]
     },
     "execution_count": 365,
     "metadata": {},
     "output_type": "execute_result"
    }
   ],
   "source": [
    "# antes de apagar dados duplicados\n",
    "final_data.shape"
   ]
  },
  {
   "cell_type": "code",
   "execution_count": 366,
   "metadata": {},
   "outputs": [],
   "source": [
    "final_data = final_data.drop_duplicates(['user_id', 'title'])"
   ]
  },
  {
   "cell_type": "code",
   "execution_count": 367,
   "metadata": {},
   "outputs": [
    {
     "data": {
      "text/plain": [
       "(35969, 11)"
      ]
     },
     "execution_count": 367,
     "metadata": {},
     "output_type": "execute_result"
    }
   ],
   "source": [
    "# depois de apagar os dados duplicados\n",
    "final_data.shape"
   ]
  },
  {
   "cell_type": "markdown",
   "metadata": {},
   "source": [
    "### Primeiras impressoes depois do dataset tratado"
   ]
  },
  {
   "cell_type": "code",
   "execution_count": 368,
   "metadata": {},
   "outputs": [
    {
     "data": {
      "text/html": [
       "<div>\n",
       "<style scoped>\n",
       "    .dataframe tbody tr th:only-of-type {\n",
       "        vertical-align: middle;\n",
       "    }\n",
       "\n",
       "    .dataframe tbody tr th {\n",
       "        vertical-align: top;\n",
       "    }\n",
       "\n",
       "    .dataframe thead th {\n",
       "        text-align: right;\n",
       "    }\n",
       "</style>\n",
       "<table border=\"1\" class=\"dataframe\">\n",
       "  <thead>\n",
       "    <tr style=\"text-align: right;\">\n",
       "      <th></th>\n",
       "      <th>user_id</th>\n",
       "      <th>ISBN</th>\n",
       "      <th>rating</th>\n",
       "      <th>title</th>\n",
       "      <th>author</th>\n",
       "      <th>year</th>\n",
       "      <th>publisher</th>\n",
       "      <th>Image-URL-S</th>\n",
       "      <th>Image-URL-M</th>\n",
       "      <th>Image-URL-L</th>\n",
       "      <th>num_rating</th>\n",
       "    </tr>\n",
       "  </thead>\n",
       "  <tbody>\n",
       "    <tr>\n",
       "      <th>0</th>\n",
       "      <td>277427</td>\n",
       "      <td>002542730X</td>\n",
       "      <td>10</td>\n",
       "      <td>Politically Correct Bedtime Stories: Modern Ta...</td>\n",
       "      <td>James Finn Garner</td>\n",
       "      <td>1994</td>\n",
       "      <td>John Wiley &amp;amp; Sons Inc</td>\n",
       "      <td>http://images.amazon.com/images/P/002542730X.0...</td>\n",
       "      <td>http://images.amazon.com/images/P/002542730X.0...</td>\n",
       "      <td>http://images.amazon.com/images/P/002542730X.0...</td>\n",
       "      <td>73</td>\n",
       "    </tr>\n",
       "    <tr>\n",
       "      <th>13</th>\n",
       "      <td>277427</td>\n",
       "      <td>0060930535</td>\n",
       "      <td>0</td>\n",
       "      <td>The Poisonwood Bible: A Novel</td>\n",
       "      <td>Barbara Kingsolver</td>\n",
       "      <td>1999</td>\n",
       "      <td>Perennial</td>\n",
       "      <td>http://images.amazon.com/images/P/0060930535.0...</td>\n",
       "      <td>http://images.amazon.com/images/P/0060930535.0...</td>\n",
       "      <td>http://images.amazon.com/images/P/0060930535.0...</td>\n",
       "      <td>117</td>\n",
       "    </tr>\n",
       "  </tbody>\n",
       "</table>\n",
       "</div>"
      ],
      "text/plain": [
       "    user_id        ISBN  rating  \\\n",
       "0    277427  002542730X      10   \n",
       "13   277427  0060930535       0   \n",
       "\n",
       "                                                title              author  \\\n",
       "0   Politically Correct Bedtime Stories: Modern Ta...   James Finn Garner   \n",
       "13                      The Poisonwood Bible: A Novel  Barbara Kingsolver   \n",
       "\n",
       "    year                  publisher  \\\n",
       "0   1994  John Wiley &amp; Sons Inc   \n",
       "13  1999                  Perennial   \n",
       "\n",
       "                                          Image-URL-S  \\\n",
       "0   http://images.amazon.com/images/P/002542730X.0...   \n",
       "13  http://images.amazon.com/images/P/0060930535.0...   \n",
       "\n",
       "                                          Image-URL-M  \\\n",
       "0   http://images.amazon.com/images/P/002542730X.0...   \n",
       "13  http://images.amazon.com/images/P/0060930535.0...   \n",
       "\n",
       "                                          Image-URL-L  num_rating  \n",
       "0   http://images.amazon.com/images/P/002542730X.0...          73  \n",
       "13  http://images.amazon.com/images/P/0060930535.0...         117  "
      ]
     },
     "execution_count": 368,
     "metadata": {},
     "output_type": "execute_result"
    }
   ],
   "source": [
    "final_data.head(2)"
   ]
  },
  {
   "cell_type": "markdown",
   "metadata": {},
   "source": [
    "### Renomeando e excluindo algumas colunas redundates"
   ]
  },
  {
   "cell_type": "code",
   "execution_count": 369,
   "metadata": {},
   "outputs": [],
   "source": [
    "final_data.drop(columns=['Image-URL-S', 'Image-URL-M'], inplace=True)"
   ]
  },
  {
   "cell_type": "code",
   "execution_count": 370,
   "metadata": {},
   "outputs": [
    {
     "data": {
      "text/plain": [
       "(35969, 9)"
      ]
     },
     "execution_count": 370,
     "metadata": {},
     "output_type": "execute_result"
    }
   ],
   "source": [
    "final_data.shape"
   ]
  },
  {
   "cell_type": "code",
   "execution_count": 371,
   "metadata": {},
   "outputs": [],
   "source": [
    "final_data.rename(columns={'Image-URL-L': 'image_url'}, inplace=True)"
   ]
  },
  {
   "cell_type": "markdown",
   "metadata": {},
   "source": [
    "### \"Pivotando\" a tabela"
   ]
  },
  {
   "cell_type": "code",
   "execution_count": 372,
   "metadata": {},
   "outputs": [],
   "source": [
    "book_pivot = final_data.pivot_table(columns='user_id', index='title', values='rating').fillna(0)"
   ]
  },
  {
   "cell_type": "code",
   "execution_count": 373,
   "metadata": {},
   "outputs": [
    {
     "data": {
      "text/html": [
       "<div>\n",
       "<style scoped>\n",
       "    .dataframe tbody tr th:only-of-type {\n",
       "        vertical-align: middle;\n",
       "    }\n",
       "\n",
       "    .dataframe tbody tr th {\n",
       "        vertical-align: top;\n",
       "    }\n",
       "\n",
       "    .dataframe thead th {\n",
       "        text-align: right;\n",
       "    }\n",
       "</style>\n",
       "<table border=\"1\" class=\"dataframe\">\n",
       "  <thead>\n",
       "    <tr style=\"text-align: right;\">\n",
       "      <th>user_id</th>\n",
       "      <th>254</th>\n",
       "      <th>2276</th>\n",
       "      <th>2766</th>\n",
       "      <th>3363</th>\n",
       "      <th>3757</th>\n",
       "      <th>4385</th>\n",
       "      <th>6251</th>\n",
       "      <th>6543</th>\n",
       "      <th>6575</th>\n",
       "      <th>7158</th>\n",
       "      <th>...</th>\n",
       "      <th>271705</th>\n",
       "      <th>273979</th>\n",
       "      <th>274004</th>\n",
       "      <th>274061</th>\n",
       "      <th>274301</th>\n",
       "      <th>274308</th>\n",
       "      <th>275970</th>\n",
       "      <th>277427</th>\n",
       "      <th>277639</th>\n",
       "      <th>278418</th>\n",
       "    </tr>\n",
       "    <tr>\n",
       "      <th>title</th>\n",
       "      <th></th>\n",
       "      <th></th>\n",
       "      <th></th>\n",
       "      <th></th>\n",
       "      <th></th>\n",
       "      <th></th>\n",
       "      <th></th>\n",
       "      <th></th>\n",
       "      <th></th>\n",
       "      <th></th>\n",
       "      <th></th>\n",
       "      <th></th>\n",
       "      <th></th>\n",
       "      <th></th>\n",
       "      <th></th>\n",
       "      <th></th>\n",
       "      <th></th>\n",
       "      <th></th>\n",
       "      <th></th>\n",
       "      <th></th>\n",
       "      <th></th>\n",
       "    </tr>\n",
       "  </thead>\n",
       "  <tbody>\n",
       "    <tr>\n",
       "      <th>1984</th>\n",
       "      <td>9.0</td>\n",
       "      <td>0.0</td>\n",
       "      <td>0.0</td>\n",
       "      <td>0.0</td>\n",
       "      <td>0.0</td>\n",
       "      <td>0.0</td>\n",
       "      <td>0.0</td>\n",
       "      <td>0.0</td>\n",
       "      <td>0.0</td>\n",
       "      <td>0.0</td>\n",
       "      <td>...</td>\n",
       "      <td>10.0</td>\n",
       "      <td>0.0</td>\n",
       "      <td>0.0</td>\n",
       "      <td>0.0</td>\n",
       "      <td>0.0</td>\n",
       "      <td>0.0</td>\n",
       "      <td>0.0</td>\n",
       "      <td>0.0</td>\n",
       "      <td>0.0</td>\n",
       "      <td>0.0</td>\n",
       "    </tr>\n",
       "    <tr>\n",
       "      <th>1st to Die: A Novel</th>\n",
       "      <td>0.0</td>\n",
       "      <td>0.0</td>\n",
       "      <td>0.0</td>\n",
       "      <td>0.0</td>\n",
       "      <td>0.0</td>\n",
       "      <td>0.0</td>\n",
       "      <td>0.0</td>\n",
       "      <td>9.0</td>\n",
       "      <td>0.0</td>\n",
       "      <td>0.0</td>\n",
       "      <td>...</td>\n",
       "      <td>0.0</td>\n",
       "      <td>0.0</td>\n",
       "      <td>0.0</td>\n",
       "      <td>0.0</td>\n",
       "      <td>0.0</td>\n",
       "      <td>0.0</td>\n",
       "      <td>0.0</td>\n",
       "      <td>0.0</td>\n",
       "      <td>0.0</td>\n",
       "      <td>0.0</td>\n",
       "    </tr>\n",
       "    <tr>\n",
       "      <th>2nd Chance</th>\n",
       "      <td>0.0</td>\n",
       "      <td>10.0</td>\n",
       "      <td>0.0</td>\n",
       "      <td>0.0</td>\n",
       "      <td>0.0</td>\n",
       "      <td>0.0</td>\n",
       "      <td>0.0</td>\n",
       "      <td>0.0</td>\n",
       "      <td>0.0</td>\n",
       "      <td>0.0</td>\n",
       "      <td>...</td>\n",
       "      <td>0.0</td>\n",
       "      <td>0.0</td>\n",
       "      <td>0.0</td>\n",
       "      <td>0.0</td>\n",
       "      <td>0.0</td>\n",
       "      <td>0.0</td>\n",
       "      <td>0.0</td>\n",
       "      <td>0.0</td>\n",
       "      <td>0.0</td>\n",
       "      <td>0.0</td>\n",
       "    </tr>\n",
       "    <tr>\n",
       "      <th>4 Blondes</th>\n",
       "      <td>0.0</td>\n",
       "      <td>0.0</td>\n",
       "      <td>0.0</td>\n",
       "      <td>0.0</td>\n",
       "      <td>0.0</td>\n",
       "      <td>0.0</td>\n",
       "      <td>0.0</td>\n",
       "      <td>0.0</td>\n",
       "      <td>0.0</td>\n",
       "      <td>0.0</td>\n",
       "      <td>...</td>\n",
       "      <td>0.0</td>\n",
       "      <td>0.0</td>\n",
       "      <td>0.0</td>\n",
       "      <td>0.0</td>\n",
       "      <td>0.0</td>\n",
       "      <td>0.0</td>\n",
       "      <td>0.0</td>\n",
       "      <td>0.0</td>\n",
       "      <td>0.0</td>\n",
       "      <td>0.0</td>\n",
       "    </tr>\n",
       "    <tr>\n",
       "      <th>A Bend in the Road</th>\n",
       "      <td>0.0</td>\n",
       "      <td>0.0</td>\n",
       "      <td>7.0</td>\n",
       "      <td>0.0</td>\n",
       "      <td>0.0</td>\n",
       "      <td>0.0</td>\n",
       "      <td>0.0</td>\n",
       "      <td>0.0</td>\n",
       "      <td>1.0</td>\n",
       "      <td>0.0</td>\n",
       "      <td>...</td>\n",
       "      <td>0.0</td>\n",
       "      <td>0.0</td>\n",
       "      <td>0.0</td>\n",
       "      <td>0.0</td>\n",
       "      <td>0.0</td>\n",
       "      <td>0.0</td>\n",
       "      <td>0.0</td>\n",
       "      <td>0.0</td>\n",
       "      <td>0.0</td>\n",
       "      <td>0.0</td>\n",
       "    </tr>\n",
       "    <tr>\n",
       "      <th>...</th>\n",
       "      <td>...</td>\n",
       "      <td>...</td>\n",
       "      <td>...</td>\n",
       "      <td>...</td>\n",
       "      <td>...</td>\n",
       "      <td>...</td>\n",
       "      <td>...</td>\n",
       "      <td>...</td>\n",
       "      <td>...</td>\n",
       "      <td>...</td>\n",
       "      <td>...</td>\n",
       "      <td>...</td>\n",
       "      <td>...</td>\n",
       "      <td>...</td>\n",
       "      <td>...</td>\n",
       "      <td>...</td>\n",
       "      <td>...</td>\n",
       "      <td>...</td>\n",
       "      <td>...</td>\n",
       "      <td>...</td>\n",
       "      <td>...</td>\n",
       "    </tr>\n",
       "    <tr>\n",
       "      <th>Wish You Well</th>\n",
       "      <td>0.0</td>\n",
       "      <td>0.0</td>\n",
       "      <td>0.0</td>\n",
       "      <td>0.0</td>\n",
       "      <td>0.0</td>\n",
       "      <td>0.0</td>\n",
       "      <td>0.0</td>\n",
       "      <td>0.0</td>\n",
       "      <td>0.0</td>\n",
       "      <td>0.0</td>\n",
       "      <td>...</td>\n",
       "      <td>0.0</td>\n",
       "      <td>0.0</td>\n",
       "      <td>0.0</td>\n",
       "      <td>0.0</td>\n",
       "      <td>0.0</td>\n",
       "      <td>0.0</td>\n",
       "      <td>0.0</td>\n",
       "      <td>0.0</td>\n",
       "      <td>0.0</td>\n",
       "      <td>0.0</td>\n",
       "    </tr>\n",
       "    <tr>\n",
       "      <th>Without Remorse</th>\n",
       "      <td>0.0</td>\n",
       "      <td>0.0</td>\n",
       "      <td>0.0</td>\n",
       "      <td>0.0</td>\n",
       "      <td>0.0</td>\n",
       "      <td>0.0</td>\n",
       "      <td>0.0</td>\n",
       "      <td>0.0</td>\n",
       "      <td>0.0</td>\n",
       "      <td>0.0</td>\n",
       "      <td>...</td>\n",
       "      <td>0.0</td>\n",
       "      <td>0.0</td>\n",
       "      <td>0.0</td>\n",
       "      <td>0.0</td>\n",
       "      <td>0.0</td>\n",
       "      <td>0.0</td>\n",
       "      <td>0.0</td>\n",
       "      <td>0.0</td>\n",
       "      <td>0.0</td>\n",
       "      <td>0.0</td>\n",
       "    </tr>\n",
       "    <tr>\n",
       "      <th>Wuthering Heights</th>\n",
       "      <td>0.0</td>\n",
       "      <td>0.0</td>\n",
       "      <td>0.0</td>\n",
       "      <td>0.0</td>\n",
       "      <td>0.0</td>\n",
       "      <td>0.0</td>\n",
       "      <td>0.0</td>\n",
       "      <td>0.0</td>\n",
       "      <td>0.0</td>\n",
       "      <td>0.0</td>\n",
       "      <td>...</td>\n",
       "      <td>0.0</td>\n",
       "      <td>0.0</td>\n",
       "      <td>0.0</td>\n",
       "      <td>0.0</td>\n",
       "      <td>0.0</td>\n",
       "      <td>0.0</td>\n",
       "      <td>0.0</td>\n",
       "      <td>0.0</td>\n",
       "      <td>0.0</td>\n",
       "      <td>0.0</td>\n",
       "    </tr>\n",
       "    <tr>\n",
       "      <th>Zen and the Art of Motorcycle Maintenance: An Inquiry into Values</th>\n",
       "      <td>0.0</td>\n",
       "      <td>0.0</td>\n",
       "      <td>0.0</td>\n",
       "      <td>0.0</td>\n",
       "      <td>0.0</td>\n",
       "      <td>0.0</td>\n",
       "      <td>0.0</td>\n",
       "      <td>0.0</td>\n",
       "      <td>0.0</td>\n",
       "      <td>0.0</td>\n",
       "      <td>...</td>\n",
       "      <td>0.0</td>\n",
       "      <td>0.0</td>\n",
       "      <td>0.0</td>\n",
       "      <td>0.0</td>\n",
       "      <td>0.0</td>\n",
       "      <td>0.0</td>\n",
       "      <td>0.0</td>\n",
       "      <td>0.0</td>\n",
       "      <td>0.0</td>\n",
       "      <td>0.0</td>\n",
       "    </tr>\n",
       "    <tr>\n",
       "      <th>\\O\\\" Is for Outlaw\"</th>\n",
       "      <td>0.0</td>\n",
       "      <td>0.0</td>\n",
       "      <td>0.0</td>\n",
       "      <td>0.0</td>\n",
       "      <td>0.0</td>\n",
       "      <td>0.0</td>\n",
       "      <td>0.0</td>\n",
       "      <td>0.0</td>\n",
       "      <td>0.0</td>\n",
       "      <td>0.0</td>\n",
       "      <td>...</td>\n",
       "      <td>0.0</td>\n",
       "      <td>0.0</td>\n",
       "      <td>0.0</td>\n",
       "      <td>0.0</td>\n",
       "      <td>8.0</td>\n",
       "      <td>0.0</td>\n",
       "      <td>0.0</td>\n",
       "      <td>0.0</td>\n",
       "      <td>0.0</td>\n",
       "      <td>0.0</td>\n",
       "    </tr>\n",
       "  </tbody>\n",
       "</table>\n",
       "<p>411 rows × 683 columns</p>\n",
       "</div>"
      ],
      "text/plain": [
       "user_id                                             254     2276    2766    \\\n",
       "title                                                                        \n",
       "1984                                                   9.0     0.0     0.0   \n",
       "1st to Die: A Novel                                    0.0     0.0     0.0   \n",
       "2nd Chance                                             0.0    10.0     0.0   \n",
       "4 Blondes                                              0.0     0.0     0.0   \n",
       "A Bend in the Road                                     0.0     0.0     7.0   \n",
       "...                                                    ...     ...     ...   \n",
       "Wish You Well                                          0.0     0.0     0.0   \n",
       "Without Remorse                                        0.0     0.0     0.0   \n",
       "Wuthering Heights                                      0.0     0.0     0.0   \n",
       "Zen and the Art of Motorcycle Maintenance: An I...     0.0     0.0     0.0   \n",
       "\\O\\\" Is for Outlaw\"                                    0.0     0.0     0.0   \n",
       "\n",
       "user_id                                             3363    3757    4385    \\\n",
       "title                                                                        \n",
       "1984                                                   0.0     0.0     0.0   \n",
       "1st to Die: A Novel                                    0.0     0.0     0.0   \n",
       "2nd Chance                                             0.0     0.0     0.0   \n",
       "4 Blondes                                              0.0     0.0     0.0   \n",
       "A Bend in the Road                                     0.0     0.0     0.0   \n",
       "...                                                    ...     ...     ...   \n",
       "Wish You Well                                          0.0     0.0     0.0   \n",
       "Without Remorse                                        0.0     0.0     0.0   \n",
       "Wuthering Heights                                      0.0     0.0     0.0   \n",
       "Zen and the Art of Motorcycle Maintenance: An I...     0.0     0.0     0.0   \n",
       "\\O\\\" Is for Outlaw\"                                    0.0     0.0     0.0   \n",
       "\n",
       "user_id                                             6251    6543    6575    \\\n",
       "title                                                                        \n",
       "1984                                                   0.0     0.0     0.0   \n",
       "1st to Die: A Novel                                    0.0     9.0     0.0   \n",
       "2nd Chance                                             0.0     0.0     0.0   \n",
       "4 Blondes                                              0.0     0.0     0.0   \n",
       "A Bend in the Road                                     0.0     0.0     1.0   \n",
       "...                                                    ...     ...     ...   \n",
       "Wish You Well                                          0.0     0.0     0.0   \n",
       "Without Remorse                                        0.0     0.0     0.0   \n",
       "Wuthering Heights                                      0.0     0.0     0.0   \n",
       "Zen and the Art of Motorcycle Maintenance: An I...     0.0     0.0     0.0   \n",
       "\\O\\\" Is for Outlaw\"                                    0.0     0.0     0.0   \n",
       "\n",
       "user_id                                             7158    ...  271705  \\\n",
       "title                                                       ...           \n",
       "1984                                                   0.0  ...    10.0   \n",
       "1st to Die: A Novel                                    0.0  ...     0.0   \n",
       "2nd Chance                                             0.0  ...     0.0   \n",
       "4 Blondes                                              0.0  ...     0.0   \n",
       "A Bend in the Road                                     0.0  ...     0.0   \n",
       "...                                                    ...  ...     ...   \n",
       "Wish You Well                                          0.0  ...     0.0   \n",
       "Without Remorse                                        0.0  ...     0.0   \n",
       "Wuthering Heights                                      0.0  ...     0.0   \n",
       "Zen and the Art of Motorcycle Maintenance: An I...     0.0  ...     0.0   \n",
       "\\O\\\" Is for Outlaw\"                                    0.0  ...     0.0   \n",
       "\n",
       "user_id                                             273979  274004  274061  \\\n",
       "title                                                                        \n",
       "1984                                                   0.0     0.0     0.0   \n",
       "1st to Die: A Novel                                    0.0     0.0     0.0   \n",
       "2nd Chance                                             0.0     0.0     0.0   \n",
       "4 Blondes                                              0.0     0.0     0.0   \n",
       "A Bend in the Road                                     0.0     0.0     0.0   \n",
       "...                                                    ...     ...     ...   \n",
       "Wish You Well                                          0.0     0.0     0.0   \n",
       "Without Remorse                                        0.0     0.0     0.0   \n",
       "Wuthering Heights                                      0.0     0.0     0.0   \n",
       "Zen and the Art of Motorcycle Maintenance: An I...     0.0     0.0     0.0   \n",
       "\\O\\\" Is for Outlaw\"                                    0.0     0.0     0.0   \n",
       "\n",
       "user_id                                             274301  274308  275970  \\\n",
       "title                                                                        \n",
       "1984                                                   0.0     0.0     0.0   \n",
       "1st to Die: A Novel                                    0.0     0.0     0.0   \n",
       "2nd Chance                                             0.0     0.0     0.0   \n",
       "4 Blondes                                              0.0     0.0     0.0   \n",
       "A Bend in the Road                                     0.0     0.0     0.0   \n",
       "...                                                    ...     ...     ...   \n",
       "Wish You Well                                          0.0     0.0     0.0   \n",
       "Without Remorse                                        0.0     0.0     0.0   \n",
       "Wuthering Heights                                      0.0     0.0     0.0   \n",
       "Zen and the Art of Motorcycle Maintenance: An I...     0.0     0.0     0.0   \n",
       "\\O\\\" Is for Outlaw\"                                    8.0     0.0     0.0   \n",
       "\n",
       "user_id                                             277427  277639  278418  \n",
       "title                                                                       \n",
       "1984                                                   0.0     0.0     0.0  \n",
       "1st to Die: A Novel                                    0.0     0.0     0.0  \n",
       "2nd Chance                                             0.0     0.0     0.0  \n",
       "4 Blondes                                              0.0     0.0     0.0  \n",
       "A Bend in the Road                                     0.0     0.0     0.0  \n",
       "...                                                    ...     ...     ...  \n",
       "Wish You Well                                          0.0     0.0     0.0  \n",
       "Without Remorse                                        0.0     0.0     0.0  \n",
       "Wuthering Heights                                      0.0     0.0     0.0  \n",
       "Zen and the Art of Motorcycle Maintenance: An I...     0.0     0.0     0.0  \n",
       "\\O\\\" Is for Outlaw\"                                    0.0     0.0     0.0  \n",
       "\n",
       "[411 rows x 683 columns]"
      ]
     },
     "execution_count": 373,
     "metadata": {},
     "output_type": "execute_result"
    }
   ],
   "source": [
    "book_pivot"
   ]
  },
  {
   "cell_type": "markdown",
   "metadata": {},
   "source": [
    "A função pivot_table do pandas é frequentemente usada em sistemas de recomendação para transformar dados de formato longo (onde cada linha representa uma interação entre um usuário e um item) em uma matriz de utilidade (ou matriz de interação), onde as linhas representam usuários, as colunas representam itens, e os valores representam as interações (como classificações, visualizações, etc.).\n",
    "\n",
    "Essa matriz de utilidade é essencial para muitos algoritmos de recomendação, especialmente aqueles baseados em filtragem colaborativa, como o K-Nearest Neighbors (KNN) e a decomposição em valores singulares (SVD)."
   ]
  },
  {
   "cell_type": "code",
   "execution_count": 374,
   "metadata": {},
   "outputs": [],
   "source": [
    "from scipy.sparse import csr_matrix"
   ]
  },
  {
   "cell_type": "markdown",
   "metadata": {},
   "source": [
    "A função csr_matrix do módulo scipy.sparse é usada para criar uma matriz esparsa no formato CSR (Compressed Sparse Row). Esse formato é eficiente em termos de memória e operações de matriz, especialmente quando a matriz contém muitos zeros, o que é comum em sistemas de recomendação.\n",
    "\n",
    "Vantagens do Formato CSR\n",
    "\n",
    "- Eficiência de Memória: Armazena apenas os elementos não-zero, economizando memória.\n",
    "\n",
    "- Operações Rápidas: Permite operações eficientes de fatiamento e aritmética de matriz.\n",
    "\n",
    "- Conversão Fácil: Pode ser facilmente convertida para outros formatos esparsos."
   ]
  },
  {
   "cell_type": "code",
   "execution_count": 375,
   "metadata": {},
   "outputs": [],
   "source": [
    "book_pivot_normalized = book_pivot.sub(book_pivot.mean(axis=1), axis=0).fillna(0)\n",
    "book_pivot_sparse = csr_matrix(book_pivot_normalized)"
   ]
  },
  {
   "cell_type": "code",
   "execution_count": 376,
   "metadata": {},
   "outputs": [],
   "source": [
    "from sklearn.neighbors import NearestNeighbors"
   ]
  },
  {
   "cell_type": "markdown",
   "metadata": {},
   "source": [
    "**Como Funciona o Algoritmo NearestNeighbors** <br>\n",
    "\n",
    "O algoritmo de NearestNeighbors (vizinhos mais próximos) é uma técnica de aprendizado de máquina usada para encontrar os pontos de dados mais próximos em um espaço de características. Ele é amplamente utilizado em sistemas de recomendação, reconhecimento de padrões, e outras aplicações que envolvem a busca de similaridade.\n",
    "\n",
    "O algoritmo NearestNeighbors pode ser configurado para usar diferentes métricas de distância e algoritmos de busca para encontrar os vizinhos mais próximos.\n",
    "\n",
    "Métricas de Distância:\n",
    "\n",
    "- euclidean: Distância Euclidiana.\n",
    "- manhattan: Distância de Manhattan (ou L1).\n",
    "- cosine: Distância do Cosseno.\n",
    "- Outras métricas personalizadas.\n",
    "\n",
    "Algoritmos de Busca:\n",
    "\n",
    "- brute: Busca exaustiva (força bruta).\n",
    "- kd_tree: Árvore KD (K-Dimensional).\n",
    "- ball_tree: Árvore de Bolas.\n",
    "- auto: Seleciona automaticamente o melhor algoritmo com base nos dados.\n",
    "- Número de Vizinhos:\n",
    "\n",
    "n_neighbors: Número de vizinhos mais próximos a serem encontrados."
   ]
  },
  {
   "cell_type": "code",
   "execution_count": 377,
   "metadata": {},
   "outputs": [],
   "source": [
    "model = NearestNeighbors(algorithm='auto', metric='cosine')"
   ]
  },
  {
   "cell_type": "code",
   "execution_count": 378,
   "metadata": {},
   "outputs": [],
   "source": [
    "# Crie uma cópia para teste\n",
    "train_data = book_pivot_sparse.copy()\n",
    "test_data = book_pivot.copy()  # Mantém como DataFrame para facilitar acesso\n",
    "\n",
    "# Oculte 20% das avaliações aleatoriamente\n",
    "mask = np.random.rand(*book_pivot.shape) < 0.2  # 20% de teste\n",
    "train_data[mask] = 0  # Zera as avaliações ocultas no treino\n",
    "train_data = csr_matrix(train_data)  # Converte novamente para esparso"
   ]
  },
  {
   "cell_type": "code",
   "execution_count": 379,
   "metadata": {},
   "outputs": [
    {
     "data": {
      "text/html": [
       "<style>#sk-container-id-8 {\n",
       "  /* Definition of color scheme common for light and dark mode */\n",
       "  --sklearn-color-text: black;\n",
       "  --sklearn-color-line: gray;\n",
       "  /* Definition of color scheme for unfitted estimators */\n",
       "  --sklearn-color-unfitted-level-0: #fff5e6;\n",
       "  --sklearn-color-unfitted-level-1: #f6e4d2;\n",
       "  --sklearn-color-unfitted-level-2: #ffe0b3;\n",
       "  --sklearn-color-unfitted-level-3: chocolate;\n",
       "  /* Definition of color scheme for fitted estimators */\n",
       "  --sklearn-color-fitted-level-0: #f0f8ff;\n",
       "  --sklearn-color-fitted-level-1: #d4ebff;\n",
       "  --sklearn-color-fitted-level-2: #b3dbfd;\n",
       "  --sklearn-color-fitted-level-3: cornflowerblue;\n",
       "\n",
       "  /* Specific color for light theme */\n",
       "  --sklearn-color-text-on-default-background: var(--sg-text-color, var(--theme-code-foreground, var(--jp-content-font-color1, black)));\n",
       "  --sklearn-color-background: var(--sg-background-color, var(--theme-background, var(--jp-layout-color0, white)));\n",
       "  --sklearn-color-border-box: var(--sg-text-color, var(--theme-code-foreground, var(--jp-content-font-color1, black)));\n",
       "  --sklearn-color-icon: #696969;\n",
       "\n",
       "  @media (prefers-color-scheme: dark) {\n",
       "    /* Redefinition of color scheme for dark theme */\n",
       "    --sklearn-color-text-on-default-background: var(--sg-text-color, var(--theme-code-foreground, var(--jp-content-font-color1, white)));\n",
       "    --sklearn-color-background: var(--sg-background-color, var(--theme-background, var(--jp-layout-color0, #111)));\n",
       "    --sklearn-color-border-box: var(--sg-text-color, var(--theme-code-foreground, var(--jp-content-font-color1, white)));\n",
       "    --sklearn-color-icon: #878787;\n",
       "  }\n",
       "}\n",
       "\n",
       "#sk-container-id-8 {\n",
       "  color: var(--sklearn-color-text);\n",
       "}\n",
       "\n",
       "#sk-container-id-8 pre {\n",
       "  padding: 0;\n",
       "}\n",
       "\n",
       "#sk-container-id-8 input.sk-hidden--visually {\n",
       "  border: 0;\n",
       "  clip: rect(1px 1px 1px 1px);\n",
       "  clip: rect(1px, 1px, 1px, 1px);\n",
       "  height: 1px;\n",
       "  margin: -1px;\n",
       "  overflow: hidden;\n",
       "  padding: 0;\n",
       "  position: absolute;\n",
       "  width: 1px;\n",
       "}\n",
       "\n",
       "#sk-container-id-8 div.sk-dashed-wrapped {\n",
       "  border: 1px dashed var(--sklearn-color-line);\n",
       "  margin: 0 0.4em 0.5em 0.4em;\n",
       "  box-sizing: border-box;\n",
       "  padding-bottom: 0.4em;\n",
       "  background-color: var(--sklearn-color-background);\n",
       "}\n",
       "\n",
       "#sk-container-id-8 div.sk-container {\n",
       "  /* jupyter's `normalize.less` sets `[hidden] { display: none; }`\n",
       "     but bootstrap.min.css set `[hidden] { display: none !important; }`\n",
       "     so we also need the `!important` here to be able to override the\n",
       "     default hidden behavior on the sphinx rendered scikit-learn.org.\n",
       "     See: https://github.com/scikit-learn/scikit-learn/issues/21755 */\n",
       "  display: inline-block !important;\n",
       "  position: relative;\n",
       "}\n",
       "\n",
       "#sk-container-id-8 div.sk-text-repr-fallback {\n",
       "  display: none;\n",
       "}\n",
       "\n",
       "div.sk-parallel-item,\n",
       "div.sk-serial,\n",
       "div.sk-item {\n",
       "  /* draw centered vertical line to link estimators */\n",
       "  background-image: linear-gradient(var(--sklearn-color-text-on-default-background), var(--sklearn-color-text-on-default-background));\n",
       "  background-size: 2px 100%;\n",
       "  background-repeat: no-repeat;\n",
       "  background-position: center center;\n",
       "}\n",
       "\n",
       "/* Parallel-specific style estimator block */\n",
       "\n",
       "#sk-container-id-8 div.sk-parallel-item::after {\n",
       "  content: \"\";\n",
       "  width: 100%;\n",
       "  border-bottom: 2px solid var(--sklearn-color-text-on-default-background);\n",
       "  flex-grow: 1;\n",
       "}\n",
       "\n",
       "#sk-container-id-8 div.sk-parallel {\n",
       "  display: flex;\n",
       "  align-items: stretch;\n",
       "  justify-content: center;\n",
       "  background-color: var(--sklearn-color-background);\n",
       "  position: relative;\n",
       "}\n",
       "\n",
       "#sk-container-id-8 div.sk-parallel-item {\n",
       "  display: flex;\n",
       "  flex-direction: column;\n",
       "}\n",
       "\n",
       "#sk-container-id-8 div.sk-parallel-item:first-child::after {\n",
       "  align-self: flex-end;\n",
       "  width: 50%;\n",
       "}\n",
       "\n",
       "#sk-container-id-8 div.sk-parallel-item:last-child::after {\n",
       "  align-self: flex-start;\n",
       "  width: 50%;\n",
       "}\n",
       "\n",
       "#sk-container-id-8 div.sk-parallel-item:only-child::after {\n",
       "  width: 0;\n",
       "}\n",
       "\n",
       "/* Serial-specific style estimator block */\n",
       "\n",
       "#sk-container-id-8 div.sk-serial {\n",
       "  display: flex;\n",
       "  flex-direction: column;\n",
       "  align-items: center;\n",
       "  background-color: var(--sklearn-color-background);\n",
       "  padding-right: 1em;\n",
       "  padding-left: 1em;\n",
       "}\n",
       "\n",
       "\n",
       "/* Toggleable style: style used for estimator/Pipeline/ColumnTransformer box that is\n",
       "clickable and can be expanded/collapsed.\n",
       "- Pipeline and ColumnTransformer use this feature and define the default style\n",
       "- Estimators will overwrite some part of the style using the `sk-estimator` class\n",
       "*/\n",
       "\n",
       "/* Pipeline and ColumnTransformer style (default) */\n",
       "\n",
       "#sk-container-id-8 div.sk-toggleable {\n",
       "  /* Default theme specific background. It is overwritten whether we have a\n",
       "  specific estimator or a Pipeline/ColumnTransformer */\n",
       "  background-color: var(--sklearn-color-background);\n",
       "}\n",
       "\n",
       "/* Toggleable label */\n",
       "#sk-container-id-8 label.sk-toggleable__label {\n",
       "  cursor: pointer;\n",
       "  display: block;\n",
       "  width: 100%;\n",
       "  margin-bottom: 0;\n",
       "  padding: 0.5em;\n",
       "  box-sizing: border-box;\n",
       "  text-align: center;\n",
       "}\n",
       "\n",
       "#sk-container-id-8 label.sk-toggleable__label-arrow:before {\n",
       "  /* Arrow on the left of the label */\n",
       "  content: \"▸\";\n",
       "  float: left;\n",
       "  margin-right: 0.25em;\n",
       "  color: var(--sklearn-color-icon);\n",
       "}\n",
       "\n",
       "#sk-container-id-8 label.sk-toggleable__label-arrow:hover:before {\n",
       "  color: var(--sklearn-color-text);\n",
       "}\n",
       "\n",
       "/* Toggleable content - dropdown */\n",
       "\n",
       "#sk-container-id-8 div.sk-toggleable__content {\n",
       "  max-height: 0;\n",
       "  max-width: 0;\n",
       "  overflow: hidden;\n",
       "  text-align: left;\n",
       "  /* unfitted */\n",
       "  background-color: var(--sklearn-color-unfitted-level-0);\n",
       "}\n",
       "\n",
       "#sk-container-id-8 div.sk-toggleable__content.fitted {\n",
       "  /* fitted */\n",
       "  background-color: var(--sklearn-color-fitted-level-0);\n",
       "}\n",
       "\n",
       "#sk-container-id-8 div.sk-toggleable__content pre {\n",
       "  margin: 0.2em;\n",
       "  border-radius: 0.25em;\n",
       "  color: var(--sklearn-color-text);\n",
       "  /* unfitted */\n",
       "  background-color: var(--sklearn-color-unfitted-level-0);\n",
       "}\n",
       "\n",
       "#sk-container-id-8 div.sk-toggleable__content.fitted pre {\n",
       "  /* unfitted */\n",
       "  background-color: var(--sklearn-color-fitted-level-0);\n",
       "}\n",
       "\n",
       "#sk-container-id-8 input.sk-toggleable__control:checked~div.sk-toggleable__content {\n",
       "  /* Expand drop-down */\n",
       "  max-height: 200px;\n",
       "  max-width: 100%;\n",
       "  overflow: auto;\n",
       "}\n",
       "\n",
       "#sk-container-id-8 input.sk-toggleable__control:checked~label.sk-toggleable__label-arrow:before {\n",
       "  content: \"▾\";\n",
       "}\n",
       "\n",
       "/* Pipeline/ColumnTransformer-specific style */\n",
       "\n",
       "#sk-container-id-8 div.sk-label input.sk-toggleable__control:checked~label.sk-toggleable__label {\n",
       "  color: var(--sklearn-color-text);\n",
       "  background-color: var(--sklearn-color-unfitted-level-2);\n",
       "}\n",
       "\n",
       "#sk-container-id-8 div.sk-label.fitted input.sk-toggleable__control:checked~label.sk-toggleable__label {\n",
       "  background-color: var(--sklearn-color-fitted-level-2);\n",
       "}\n",
       "\n",
       "/* Estimator-specific style */\n",
       "\n",
       "/* Colorize estimator box */\n",
       "#sk-container-id-8 div.sk-estimator input.sk-toggleable__control:checked~label.sk-toggleable__label {\n",
       "  /* unfitted */\n",
       "  background-color: var(--sklearn-color-unfitted-level-2);\n",
       "}\n",
       "\n",
       "#sk-container-id-8 div.sk-estimator.fitted input.sk-toggleable__control:checked~label.sk-toggleable__label {\n",
       "  /* fitted */\n",
       "  background-color: var(--sklearn-color-fitted-level-2);\n",
       "}\n",
       "\n",
       "#sk-container-id-8 div.sk-label label.sk-toggleable__label,\n",
       "#sk-container-id-8 div.sk-label label {\n",
       "  /* The background is the default theme color */\n",
       "  color: var(--sklearn-color-text-on-default-background);\n",
       "}\n",
       "\n",
       "/* On hover, darken the color of the background */\n",
       "#sk-container-id-8 div.sk-label:hover label.sk-toggleable__label {\n",
       "  color: var(--sklearn-color-text);\n",
       "  background-color: var(--sklearn-color-unfitted-level-2);\n",
       "}\n",
       "\n",
       "/* Label box, darken color on hover, fitted */\n",
       "#sk-container-id-8 div.sk-label.fitted:hover label.sk-toggleable__label.fitted {\n",
       "  color: var(--sklearn-color-text);\n",
       "  background-color: var(--sklearn-color-fitted-level-2);\n",
       "}\n",
       "\n",
       "/* Estimator label */\n",
       "\n",
       "#sk-container-id-8 div.sk-label label {\n",
       "  font-family: monospace;\n",
       "  font-weight: bold;\n",
       "  display: inline-block;\n",
       "  line-height: 1.2em;\n",
       "}\n",
       "\n",
       "#sk-container-id-8 div.sk-label-container {\n",
       "  text-align: center;\n",
       "}\n",
       "\n",
       "/* Estimator-specific */\n",
       "#sk-container-id-8 div.sk-estimator {\n",
       "  font-family: monospace;\n",
       "  border: 1px dotted var(--sklearn-color-border-box);\n",
       "  border-radius: 0.25em;\n",
       "  box-sizing: border-box;\n",
       "  margin-bottom: 0.5em;\n",
       "  /* unfitted */\n",
       "  background-color: var(--sklearn-color-unfitted-level-0);\n",
       "}\n",
       "\n",
       "#sk-container-id-8 div.sk-estimator.fitted {\n",
       "  /* fitted */\n",
       "  background-color: var(--sklearn-color-fitted-level-0);\n",
       "}\n",
       "\n",
       "/* on hover */\n",
       "#sk-container-id-8 div.sk-estimator:hover {\n",
       "  /* unfitted */\n",
       "  background-color: var(--sklearn-color-unfitted-level-2);\n",
       "}\n",
       "\n",
       "#sk-container-id-8 div.sk-estimator.fitted:hover {\n",
       "  /* fitted */\n",
       "  background-color: var(--sklearn-color-fitted-level-2);\n",
       "}\n",
       "\n",
       "/* Specification for estimator info (e.g. \"i\" and \"?\") */\n",
       "\n",
       "/* Common style for \"i\" and \"?\" */\n",
       "\n",
       ".sk-estimator-doc-link,\n",
       "a:link.sk-estimator-doc-link,\n",
       "a:visited.sk-estimator-doc-link {\n",
       "  float: right;\n",
       "  font-size: smaller;\n",
       "  line-height: 1em;\n",
       "  font-family: monospace;\n",
       "  background-color: var(--sklearn-color-background);\n",
       "  border-radius: 1em;\n",
       "  height: 1em;\n",
       "  width: 1em;\n",
       "  text-decoration: none !important;\n",
       "  margin-left: 1ex;\n",
       "  /* unfitted */\n",
       "  border: var(--sklearn-color-unfitted-level-1) 1pt solid;\n",
       "  color: var(--sklearn-color-unfitted-level-1);\n",
       "}\n",
       "\n",
       ".sk-estimator-doc-link.fitted,\n",
       "a:link.sk-estimator-doc-link.fitted,\n",
       "a:visited.sk-estimator-doc-link.fitted {\n",
       "  /* fitted */\n",
       "  border: var(--sklearn-color-fitted-level-1) 1pt solid;\n",
       "  color: var(--sklearn-color-fitted-level-1);\n",
       "}\n",
       "\n",
       "/* On hover */\n",
       "div.sk-estimator:hover .sk-estimator-doc-link:hover,\n",
       ".sk-estimator-doc-link:hover,\n",
       "div.sk-label-container:hover .sk-estimator-doc-link:hover,\n",
       ".sk-estimator-doc-link:hover {\n",
       "  /* unfitted */\n",
       "  background-color: var(--sklearn-color-unfitted-level-3);\n",
       "  color: var(--sklearn-color-background);\n",
       "  text-decoration: none;\n",
       "}\n",
       "\n",
       "div.sk-estimator.fitted:hover .sk-estimator-doc-link.fitted:hover,\n",
       ".sk-estimator-doc-link.fitted:hover,\n",
       "div.sk-label-container:hover .sk-estimator-doc-link.fitted:hover,\n",
       ".sk-estimator-doc-link.fitted:hover {\n",
       "  /* fitted */\n",
       "  background-color: var(--sklearn-color-fitted-level-3);\n",
       "  color: var(--sklearn-color-background);\n",
       "  text-decoration: none;\n",
       "}\n",
       "\n",
       "/* Span, style for the box shown on hovering the info icon */\n",
       ".sk-estimator-doc-link span {\n",
       "  display: none;\n",
       "  z-index: 9999;\n",
       "  position: relative;\n",
       "  font-weight: normal;\n",
       "  right: .2ex;\n",
       "  padding: .5ex;\n",
       "  margin: .5ex;\n",
       "  width: min-content;\n",
       "  min-width: 20ex;\n",
       "  max-width: 50ex;\n",
       "  color: var(--sklearn-color-text);\n",
       "  box-shadow: 2pt 2pt 4pt #999;\n",
       "  /* unfitted */\n",
       "  background: var(--sklearn-color-unfitted-level-0);\n",
       "  border: .5pt solid var(--sklearn-color-unfitted-level-3);\n",
       "}\n",
       "\n",
       ".sk-estimator-doc-link.fitted span {\n",
       "  /* fitted */\n",
       "  background: var(--sklearn-color-fitted-level-0);\n",
       "  border: var(--sklearn-color-fitted-level-3);\n",
       "}\n",
       "\n",
       ".sk-estimator-doc-link:hover span {\n",
       "  display: block;\n",
       "}\n",
       "\n",
       "/* \"?\"-specific style due to the `<a>` HTML tag */\n",
       "\n",
       "#sk-container-id-8 a.estimator_doc_link {\n",
       "  float: right;\n",
       "  font-size: 1rem;\n",
       "  line-height: 1em;\n",
       "  font-family: monospace;\n",
       "  background-color: var(--sklearn-color-background);\n",
       "  border-radius: 1rem;\n",
       "  height: 1rem;\n",
       "  width: 1rem;\n",
       "  text-decoration: none;\n",
       "  /* unfitted */\n",
       "  color: var(--sklearn-color-unfitted-level-1);\n",
       "  border: var(--sklearn-color-unfitted-level-1) 1pt solid;\n",
       "}\n",
       "\n",
       "#sk-container-id-8 a.estimator_doc_link.fitted {\n",
       "  /* fitted */\n",
       "  border: var(--sklearn-color-fitted-level-1) 1pt solid;\n",
       "  color: var(--sklearn-color-fitted-level-1);\n",
       "}\n",
       "\n",
       "/* On hover */\n",
       "#sk-container-id-8 a.estimator_doc_link:hover {\n",
       "  /* unfitted */\n",
       "  background-color: var(--sklearn-color-unfitted-level-3);\n",
       "  color: var(--sklearn-color-background);\n",
       "  text-decoration: none;\n",
       "}\n",
       "\n",
       "#sk-container-id-8 a.estimator_doc_link.fitted:hover {\n",
       "  /* fitted */\n",
       "  background-color: var(--sklearn-color-fitted-level-3);\n",
       "}\n",
       "</style><div id=\"sk-container-id-8\" class=\"sk-top-container\"><div class=\"sk-text-repr-fallback\"><pre>NearestNeighbors(metric=&#x27;cosine&#x27;)</pre><b>In a Jupyter environment, please rerun this cell to show the HTML representation or trust the notebook. <br />On GitHub, the HTML representation is unable to render, please try loading this page with nbviewer.org.</b></div><div class=\"sk-container\" hidden><div class=\"sk-item\"><div class=\"sk-estimator fitted sk-toggleable\"><input class=\"sk-toggleable__control sk-hidden--visually\" id=\"sk-estimator-id-8\" type=\"checkbox\" checked><label for=\"sk-estimator-id-8\" class=\"sk-toggleable__label fitted sk-toggleable__label-arrow fitted\">&nbsp;&nbsp;NearestNeighbors<a class=\"sk-estimator-doc-link fitted\" rel=\"noreferrer\" target=\"_blank\" href=\"https://scikit-learn.org/1.5/modules/generated/sklearn.neighbors.NearestNeighbors.html\">?<span>Documentation for NearestNeighbors</span></a><span class=\"sk-estimator-doc-link fitted\">i<span>Fitted</span></span></label><div class=\"sk-toggleable__content fitted\"><pre>NearestNeighbors(metric=&#x27;cosine&#x27;)</pre></div> </div></div></div></div>"
      ],
      "text/plain": [
       "NearestNeighbors(metric='cosine')"
      ]
     },
     "execution_count": 379,
     "metadata": {},
     "output_type": "execute_result"
    }
   ],
   "source": [
    "model.fit(train_data)"
   ]
  },
  {
   "cell_type": "code",
   "execution_count": 380,
   "metadata": {},
   "outputs": [],
   "source": [
    "distance, suggestions = model.kneighbors(book_pivot.iloc[1,:].values.reshape(1, -1), n_neighbors=6)"
   ]
  },
  {
   "cell_type": "markdown",
   "metadata": {},
   "source": [
    "Detalhes de `book_pivot.iloc[237, :]`:\n",
    "\n",
    "- Contexto: `book_pivot` é um **DataFrame**, uma matriz de utilidade onde:  \n",
    "  - Linhas representam livros.  \n",
    "  - Colunas representam usuários.  \n",
    "\n",
    "- Seleção: `iloc[237, :]` seleciona a **linha 237** do DataFrame `book_pivot`. Essa linha contém as características do livro com índice **237**.\n",
    "\n",
    "Transformação com `.values.reshape(1, -1)`:\n",
    "\n",
    "- `.values`: Converte a linha selecionada em um **array NumPy**.  \n",
    "- `.reshape(1, -1)`: Reorganiza o array em uma **matriz 2D** com:  \n",
    "  - Uma única linha.  \n",
    "  - Colunas suficientes para acomodar todos os elementos (-1 indica que o número de colunas é calculado automaticamente).  \n",
    "\n",
    "  Essa transformação é necessária porque a função `kneighbors` requer que a entrada seja uma **matriz 2D**.\n",
    "\n",
    "Parâmetro `n_neighbors=6`:\n",
    "\n",
    "- Indica que a busca será feita para encontrar os **6 vizinhos mais próximos** do ponto de consulta.\n"
   ]
  },
  {
   "cell_type": "code",
   "execution_count": 381,
   "metadata": {},
   "outputs": [
    {
     "data": {
      "text/plain": [
       "array([[0.14494755, 0.67470549, 0.71850371, 0.74760223, 0.74874527,\n",
       "        0.7638981 ]])"
      ]
     },
     "execution_count": 381,
     "metadata": {},
     "output_type": "execute_result"
    }
   ],
   "source": [
    "distance"
   ]
  },
  {
   "cell_type": "markdown",
   "metadata": {},
   "source": [
    "### Lista de indicies dos livros recomendados"
   ]
  },
  {
   "cell_type": "code",
   "execution_count": 382,
   "metadata": {},
   "outputs": [
    {
     "data": {
      "text/plain": [
       "array([[  1,  22,  67, 171, 220, 357]], dtype=int64)"
      ]
     },
     "execution_count": 382,
     "metadata": {},
     "output_type": "execute_result"
    }
   ],
   "source": [
    "suggestions"
   ]
  },
  {
   "cell_type": "markdown",
   "metadata": {},
   "source": [
    "**Medindo o desempenho do modelo**"
   ]
  },
  {
   "cell_type": "markdown",
   "metadata": {},
   "source": [
    "Entrada: O código pega as características do livro na linha 237 do DataFrame book_pivot.\n",
    "\n",
    "Processamento: Usa o modelo NearestNeighbors para encontrar os 6 livros mais próximos (vizinhos) ao livro na linha 237, com base nas características fornecidas.\n",
    "\n",
    "Saída: A função kneighbors retorna duas coisas:\n",
    "\n",
    "distance: Um array contendo as distâncias dos 6 livros mais próximos ao livro de consulta.\n",
    "\n",
    "suggestions: Um array contendo os índices dos 6 livros mais próximos no DataFrame book_pivot."
   ]
  },
  {
   "cell_type": "code",
   "execution_count": 383,
   "metadata": {},
   "outputs": [
    {
     "name": "stdout",
     "output_type": "stream",
     "text": [
      "Index(['1st to Die: A Novel', 'Along Came a Spider (Alex Cross Novels)',\n",
      "       'Cradle and All', 'Lightning', 'Remember Me', 'The Summons'],\n",
      "      dtype='object', name='title')\n"
     ]
    }
   ],
   "source": [
    "for i in range(len(suggestions)):\n",
    "    print(book_pivot.index[suggestions[i]])"
   ]
  },
  {
   "cell_type": "code",
   "execution_count": 384,
   "metadata": {},
   "outputs": [],
   "source": [
    "books_name = book_pivot.index"
   ]
  },
  {
   "cell_type": "code",
   "execution_count": 385,
   "metadata": {},
   "outputs": [
    {
     "data": {
      "text/plain": [
       "Index(['1984', '1st to Die: A Novel', '2nd Chance', '4 Blondes',\n",
       "       'A Bend in the Road', 'A Case of Need',\n",
       "       'A Child Called \\It\\\": One Child's Courage to Survive\"',\n",
       "       'A Is for Alibi (Kinsey Millhone Mysteries (Paperback))',\n",
       "       'A Map of the World', 'A Painted House',\n",
       "       ...\n",
       "       'Whispers', 'White Oleander : A Novel',\n",
       "       'White Oleander : A Novel (Oprah's Book Club)',\n",
       "       'Wicked: The Life and Times of the Wicked Witch of the West',\n",
       "       'Wild Animus', 'Wish You Well', 'Without Remorse', 'Wuthering Heights',\n",
       "       'Zen and the Art of Motorcycle Maintenance: An Inquiry into Values',\n",
       "       '\\O\\\" Is for Outlaw\"'],\n",
       "      dtype='object', name='title', length=411)"
      ]
     },
     "execution_count": 385,
     "metadata": {},
     "output_type": "execute_result"
    }
   ],
   "source": [
    "books_name"
   ]
  },
  {
   "cell_type": "markdown",
   "metadata": {},
   "source": [
    "\n",
    "Exemplo prático:\n",
    "\n",
    "Suponha que:\n",
    "\n",
    "- `suggestions` seja `[237, 42, 15, 89, 300]`, ou seja, uma lista com 5 índices de livros que são \"sugeridos\" como similares (talvez encontrados pelo `kneighbors`).  \n",
    "- `book_pivot.index` seja uma lista como `[\"O Senhor dos Anéis\", \"Harry Potter\", \"Código Da Vinci\", ...]`, onde cada posição corresponde a um livro.\n",
    "\n",
    "O loop fará o seguinte:\n",
    "\n",
    "- Primeira iteração (`i = 0`):  \n",
    "  `print(book_pivot.index[suggestions[0]])` imprime o livro na posição `suggestions[0]` (237). Se `book_pivot.index[237]` for \"O Senhor dos Anéis\", a saída será:  \n",
    "  `O Senhor dos Anéis`\n",
    "\n",
    "- Segunda iteração (`i = 1`):  \n",
    "  `print(book_pivot.index[suggestions[1]])` imprime o livro na posição `suggestions[1]` (42). Se `book_pivot.index[42]` for \"Harry Potter\", a saída será:  \n",
    "  `Harry Potter`\n",
    "\n",
    "E assim por diante, até que todos os índices em `suggestions` sejam processados. No final, o código simplesmente lista os títulos ou identificadores dos livros que foram considerados \"sugestões\" ou \"vizinhos mais próximos\".\n"
   ]
  },
  {
   "cell_type": "code",
   "execution_count": 386,
   "metadata": {},
   "outputs": [],
   "source": [
    "import pickle"
   ]
  },
  {
   "cell_type": "markdown",
   "metadata": {},
   "source": [
    "### Exportando os dados que são necessarios para fazer o webapp com streamlit"
   ]
  },
  {
   "cell_type": "code",
   "execution_count": 387,
   "metadata": {},
   "outputs": [],
   "source": [
    "pickle.dump(books_name, open('artefatos/book_name.pkl', 'wb'))\n",
    "pickle.dump(model, open('artefatos/model.pkl', 'wb'))\n",
    "pickle.dump(final_data, open('artefatos/final_data.pkl', 'wb'))\n",
    "pickle.dump(book_pivot, open('artefatos/book_pivot.pkl', 'wb'))"
   ]
  },
  {
   "cell_type": "markdown",
   "metadata": {},
   "source": [
    "### Funções para avaliar o desempenho do modelo"
   ]
  },
  {
   "cell_type": "code",
   "execution_count": 388,
   "metadata": {},
   "outputs": [
    {
     "name": "stdout",
     "output_type": "stream",
     "text": [
      "Recomendações para '1st to Die: A Novel': ['1st to Die: A Novel', 'Along Came a Spider (Alex Cross Novels)', 'Lightning', 'While My Pretty One Sleeps', 'Remember Me', 'Night Whispers']\n",
      "Precisão@6: 0.8333333333333334, Recall@6: 0.012195121951219513\n",
      "Livros relevantes reais: ['1984', '2nd Chance', '4 Blondes', 'A Bend in the Road', 'A Case of Need', 'A Child Called \\\\It\\\\\": One Child\\'s Courage to Survive\"', 'A Is for Alibi (Kinsey Millhone Mysteries (Paperback))', 'A Map of the World', 'A Painted House', 'A Prayer for Owen Meany', \"A Thousand Acres (Ballantine Reader's Circle)\", 'A Time to Kill', 'A Walk to Remember', 'A Widow for One Year', 'A Wrinkle in Time', \"ANGELA'S ASHES\", 'Absolute Power', 'Airframe', 'All Around the Town', 'All I Really Need to Know', 'All That Remains (Kay Scarpetta Mysteries (Paperback))', 'Along Came a Spider (Alex Cross Novels)', 'American Gods', \"Angela's Ashes (MMP) : A Memoir\", \"Angela's Ashes: A Memoir\", 'Angels', 'Angels &amp; Demons', 'Anne Frank: The Diary of a Young Girl', 'Anne of Green Gables (Anne of Green Gables Novels (Paperback))', 'Artemis Fowl (Artemis Fowl, Book 1)', 'Ashes to Ashes', 'At Home in Mitford (The Mitford Years)', 'B Is for Burglar (Kinsey Millhone Mysteries (Paperback))', 'Back Roads', 'Balzac and the Little Chinese Seamstress : A Novel', 'Beach Music', 'Before I Say Good-Bye', 'Bel Canto: A Novel', 'Beloved', \"Big Stone Gap: A Novel (Ballantine Reader's Circle)\", 'Big Trouble', 'Black Notice', 'Black and Blue', 'Blessings', 'Body of Evidence (Kay Scarpetta Mysteries (Paperback))', 'Brave New World', 'Breathing Lessons', \"Bridget Jones's Diary\", 'Bridget Jones: The Edge of Reason', 'C Is for Corpse (Kinsey Millhone Mysteries (Paperback))', 'Call of the Wild', 'Carolina Moon', 'Cat &amp; Mouse (Alex Cross Novels)', 'Cause of Death', 'Chicken Soup for the Soul (Chicken Soup for the Soul)', \"Chicken Soup for the Woman's Soul (Chicken Soup for the Soul Series (Paper))\", 'Chocolat', 'Chosen Prey', 'Circle of Friends', 'Cold Mountain : A Novel', 'Cold Sassy Tree', 'Confessions of a Shopaholic (Summer Display Opportunity)', 'Confessions of an Ugly Stepsister : A Novel', 'Congo', 'Contact', 'Couplehood', 'Cradle and All', 'Crazy for You', 'Cruel &amp; Unusual (Kay Scarpetta Mysteries (Paperback))', 'D Is for Deadbeat (Kinsey Millhone Mysteries (Paperback))', 'Daddy', \"Daddy's Little Girl\", 'Daisy Fay and the Miracle Man', 'Dance upon the Air (Three Sisters Island Trilogy)', 'Dances With Wolves', 'Dark Paradise', 'Deception Point', 'Deja Dead', 'Disclosure', 'Divine Secrets of the Ya-Ya Sisterhood: A Novel', 'Dolores Claiborne', \"Don't Stand Too Close to a Naked Man\", \"Don't Sweat the Small Stuff and It's All Small Stuff : Simple Ways to Keep the Little Things from Taking Over Your Life (Don't Sweat the Small Stuff Series)\", 'Dragonfly in Amber', 'Dreamcatcher', 'Dust to Dust', 'E Is for Evidence: A Kinsey Millhone Mystery (Kinsey Millhone Mysteries (Paperback))', 'Easy Prey', 'Ellen Foster', 'Empire Falls', 'Evening Class', 'F Is for Fugitive (Kinsey Millhone Mysteries (Paperback))', 'FORREST GUMP (Movie Tie in)', 'Face the Fire (Three Sisters Island Trilogy)', 'Fahrenheit 451', 'Faking It', 'Fall On Your Knees (Oprah #45)', 'False Memory', 'Fast Food Nation: The Dark Side of the All-American Meal', 'Fast Women', 'Fat Tuesday', 'Fear Nothing', 'Final Target', 'Five Quarters of the Orange', 'Flesh and Blood', \"Fortune's Rocks : A Novel\", 'Four Blind Mice', 'Four To Score (A Stephanie Plum Novel)', 'Fried Green Tomatoes at the Whistle Stop Cafe', \"From Potter's Field\", \"Full House (Janet Evanovich's Full Series)\", \"Full Tilt (Janet Evanovich's Full Series)\", 'G Is for Gumshoe (Kinsey Millhone Mysteries (Paperback))', 'Girl in Hyacinth Blue', 'Girl with a Pearl Earring', 'Girl, Interrupted', 'Good in Bed', 'H Is for Homicide (Kinsey Millhone Mysteries (Paperback))', 'Hannibal', 'Hard Eight : A Stephanie Plum Novel (A Stephanie Plum Novel)', 'Harry Potter and the Chamber of Secrets (Book 2)', 'Harry Potter and the Goblet of Fire (Book 4)', 'Harry Potter and the Order of the Phoenix (Book 5)', 'Harry Potter and the Prisoner of Azkaban (Book 3)', \"Harry Potter and the Sorcerer's Stone (Book 1)\", \"Harry Potter and the Sorcerer's Stone (Harry Potter (Paperback))\", 'Heart of the Sea (Irish Trilogy)', 'Heartbreaker', 'Heaven and Earth (Three Sisters Island Trilogy)', 'Here on Earth', 'Hideaway', 'High Five (A Stephanie Plum Novel)', \"Hornet's Nest\", 'Hot Six : A Stephanie Plum Novel (A Stephanie Plum Novel)', 'House of Sand and Fog', 'How Stella Got Her Groove Back', 'How to Be Good', 'How to Make an American Quilt', 'I Is for Innocent', 'I Know This Much Is True', 'I Know Why the Caged Bird Sings', \"I'll Be Seeing You\", 'Icy Sparks', 'In Her Shoes : A Novel', 'Insomnia', 'Intensity', 'Interview with the Vampire', 'Into Thin Air : A Personal Account of the Mt. Everest Disaster', 'Into the Wild', 'Invasion', 'Isle of Dogs', 'It', 'It Was on Fire When I Lay Down on It', \"It's Always Something\", 'J Is for Judgment', 'Jack &amp; Jill (Alex Cross Novels)', 'Jemima J: A Novel About Ugly Ducklings and Swans', 'Jewel', 'Jewels of the Sun (Irish Trilogy)', 'Journey', 'Jurassic Park', 'K Is for Killer (Kinsey Millhone Mysteries (Paperback))', 'Kaleidoscope', 'Key of Light (Key Trilogy (Paperback))', 'Kiss the Girls', 'Ladder of Years', \"Lamb : The Gospel According to Biff, Christ's Childhood Pal\", \"Left Behind: A Novel of the Earth's Last Days (Left Behind No. 1)\", 'Let Me Call You Sweetheart', 'Life of Pi', 'Lightning', 'Like Water for Chocolate: A Novel in Monthly Installments With Recipes, Romances and Home Remedies', 'Little Altars Everywhere: A Novel', 'Lord of the Flies', 'Loves Music, Loves to Dance', 'Lucky : A Memoir', 'M Is for Malice', 'Matilda', 'Me Talk Pretty One Day', 'Mercy', 'Message in a Bottle', 'Middlesex: A Novel', 'Midnight Bayou', 'Midnight in the Garden of Good and Evil: A Savannah Story', 'Midwives: A Novel', 'Mirror Image', 'Misery', 'Moo', 'My Gal Sunday', 'Mystic River', 'N Is for Noose', 'Needful Things', 'Neverwhere', 'Nickel and Dimed: On (Not) Getting By in America', 'Night', 'Night Sins', 'Night Whispers', 'One Door Away from Heaven', 'One True Thing', 'One for the Money (Stephanie Plum Novels (Paperback))', 'Outlander', 'Over the Edge', 'P Is for Peril', 'Paradise', 'Pay It Forward', 'Pet Sematary', 'Pigs in Heaven', 'Point of Origin', 'Politically Correct Bedtime Stories: Modern Tales for Our Life and Times', 'Pop Goes the Weasel', 'Postmortem', 'Practical Magic', 'Presumed Innocent', \"Pretend You Don't See Her\", 'Primary Colors: A Novel of Politics', 'Q Is for Quarry', 'Rebecca', 'Red Dragon', 'Red Storm Rising', 'Remember Me', 'Riptide', 'Rising Sun', \"River's End\", 'River, Cross My Heart', 'Rose Madder', 'Roses Are Red (Alex Cross Novels)', 'SHIPPING NEWS', 'STONES FROM THE RIVER', 'Saint Maybe', 'Sanctuary', 'Saving Faith', 'Scarlet Feather', 'Secret History', 'Secrets', 'Seize the Night', 'Seven Up (A Stephanie Plum Novel)', \"She's Come Undone (Oprah's Book Club (Paperback))\", \"She's Come Undone (Oprah's Book Club)\", 'Shell Seekers', 'Shopaholic Takes Manhattan (Summer Display Opportunity)', 'Silence of the Lambs', 'Skeleton Crew', 'Skipping Christmas', 'Slow Waltz in Cedar Bend', \"Smilla's Sense of Snow\", 'Snow Falling on Cedars', \"Songs in Ordinary Time (Oprah's Book Club (Paperback))\", 'Southern Cross', 'Sphere', 'Standoff', 'Still Waters', 'Stillwatch', 'Stupid White Men ...and Other Sorry Excuses for the State of the Nation!', 'Summer Sisters', \"Suzanne's Diary for Nicholas\", 'Tara Road', 'Tears of the Giraffe (No.1 Ladies Detective Agency)', 'Tears of the Moon (Irish Trilogy)', 'Tell No One', 'That Camden Summer', 'The Alienist', 'The Angel of Darkness', 'The Bachelor (Warner Books Contemporary Romance)', 'The Bad Beginning (A Series of Unfortunate Events, Book 1)', 'The Beach House', 'The Bean Trees', 'The Blind Assassin', 'The Body Farm', \"The Bonesetter's Daughter\", 'The Bonfire of the Vanities', \"The Book of Ruth (Oprah's Book Club (Paperback))\", 'The Bourne Identity', 'The Brethren', 'The Bridges of Madison County', 'The Burden of Proof', 'The Cardinal of the Kremlin (Jack Ryan Novels)', 'The Catcher in the Rye', 'The Chamber', 'The Cider House Rules', \"The Clan of the Cave Bear (Earth's Children (Paperback))\", 'The Client', 'The Color Purple', \"The Color of Water: A Black Man's Tribute to His White Mother\", 'The Crimson Petal and the White', 'The Da Vinci Code', 'The Dark Half', 'The Deep End of the Ocean', 'The Devil Wears Prada : A Novel', 'The Diary of Ellen Rimbauer: My Life at Rose Red', 'The Divine Secrets of the Ya-Ya Sisterhood: A Novel', 'The Door to December', 'The Drawing of the Three (The Dark Tower, Book 2)', 'The English Patient', 'The Fellowship of the Ring (The Lord of the Rings, Part 1)', 'The Firm', 'The Five People You Meet in Heaven', \"The General's Daughter\", 'The Gift', \"The Girls' Guide to Hunting and Fishing\", 'The God of Small Things', 'The Golden Compass (His Dark Materials, Book 1)', 'The Green Mile', 'The Guardian', 'The Gunslinger (The Dark Tower, Book 1)', \"The Handmaid's Tale\", \"The Hitchhiker's Guide to the Galaxy\", 'The Hobbit : The Enchanting Prelude to The Lord of the Rings', 'The Horse Whisperer', 'The Hot Zone', 'The Hours: A Novel', 'The House of the Spirits', 'The Hundred Secret Senses', 'The Hunt for Red October', 'The Joy Luck Club', 'The King of Torts', 'The Kiss', \"The Kitchen God's Wife\", 'The Last Precinct', 'The Last Time They Met : A Novel', 'The Loop', 'The Lost World', 'The Lovely Bones: A Novel', 'The Mulberry Tree', 'The Mummy or Ramses the Damned', 'The Murder Book', 'The Nanny Diaries: A Novel', \"The No. 1 Ladies' Detective Agency (Today Show Book Club #8)\", 'The Notebook', 'The Partner', 'The Pelican Brief', 'The Perfect Storm : A True Story of Men Against the Sea', 'The Pillars of the Earth', \"The Pilot's Wife : A Novel\", 'The Poisonwood Bible: A Novel', 'The Prince of Tides', 'The Queen of the Damned (Vampire Chronicles (Paperback))', 'The Rainmaker', 'The Rapture of Canaan', 'The Reader', 'The Red Tent (Bestselling Backlist)', 'The Reef', 'The Rescue', 'The Return of the King (The Lord of the Rings, Part 3)', 'The Robber Bride', 'The Runaway Jury', 'The Saving Graces: A Novel', 'The Secret Garden', 'The Secret Life of Bees', 'The Shipping News : A Novel', 'The Simple Truth', 'The Smoke Jumper', 'The Stone Diaries', 'The Street Lawyer', 'The Subtle Knife (His Dark Materials, Book 2)', 'The Sum of All Fears (Jack Ryan Novels)', 'The Summerhouse', 'The Summons', 'The Surgeon', \"The Sweet Potato Queens' Book of Love\", 'The Switch', 'The Tale of the Body Thief (Vampire Chronicles (Paperback))', 'The Talisman', 'The Tao of Pooh', 'The Testament', 'The Thorn Birds', 'The Tommyknockers', 'The Two Towers (The Lord of the Rings, Part 2)', 'The Vampire Lestat (Vampire Chronicles, Book II)', 'The Villa', 'The Wedding', 'The Winner', 'The Witching Hour (Lives of the Mayfair Witches)', 'Thinner', 'Three Fates', 'Three Junes', 'Three To Get Deadly : A Stephanie Plum Novel (A Stephanie Plum Novel)', 'Timeline', 'To Kill a Mockingbird', 'Tribulation Force: The Continuing Drama of Those Left Behind (Left Behind No. 2)', \"Tuesdays with Morrie: An Old Man, a Young Man, and Life's Greatest Lesson\", 'Turtle Moon', 'Two for the Dough', 'Unnatural Exposure', 'Vanished', \"Vinegar Hill (Oprah's Book Club (Paperback))\", 'Violets Are Blue', 'Waiting to Exhale', 'Wanderlust', 'Watchers', 'Watership Down', 'We Were the Mulvaneys', \"We'll Meet Again\", 'Welcome to Temptation', 'Welcome to the World, Baby Girl!', 'What Looks Like Crazy On An Ordinary Day', 'When the Wind Blows', \"Where the Heart Is (Oprah's Book Club (Paperback))\", 'While I Was Gone', 'While My Pretty One Sleeps', 'Whirlwind (Tyler, Book 1)', 'Whispers', 'White Oleander : A Novel', \"White Oleander : A Novel (Oprah's Book Club)\", 'Wicked: The Life and Times of the Wicked Witch of the West', 'Wild Animus', 'Wish You Well', 'Without Remorse', 'Wuthering Heights', 'Zen and the Art of Motorcycle Maintenance: An Inquiry into Values', '\\\\O\\\\\" Is for Outlaw\"']\n"
     ]
    }
   ],
   "source": [
    "def evaluate_recommendations(book_title, model, train_data, test_data, k=6):\n",
    "    # Encontre o ID do livro\n",
    "    book_id = np.where(book_pivot.index == book_title)[0][0]\n",
    "    \n",
    "    # Obtenha recomendações\n",
    "    distances, suggestions = model.kneighbors(train_data[book_id], n_neighbors=k)\n",
    "    recommended_books = book_pivot.index[suggestions[0]]\n",
    "    print(f\"Recomendações para '{book_title}':\", recommended_books.tolist())\n",
    "    \n",
    "    # Encontre livros relevantes (avaliações altas no conjunto completo)\n",
    "    user_ratings = test_data.iloc[book_id, :].values  # Avaliações reais do livro\n",
    "    true_likes = test_data.index[test_data.loc[:, test_data.columns[user_ratings > 7]].notna().any(axis=1)].tolist()\n",
    "    true_likes = [book for book in true_likes if book != book_title]  # Exclui o próprio livro\n",
    "    \n",
    "    # Calcule acertos\n",
    "    hits = len(set(recommended_books) & set(true_likes))\n",
    "    precision = hits / k if k > 0 else 0\n",
    "    recall = hits / len(true_likes) if true_likes else 0\n",
    "    \n",
    "    return precision, recall, true_likes\n",
    "\n",
    "# Teste para um livro\n",
    "book_title = \"1st to Die: A Novel\"\n",
    "precision, recall, true_likes = evaluate_recommendations(book_title, model, train_data, test_data)\n",
    "print(f\"Precisão@{6}: {precision}, Recall@{6}: {recall}\")\n",
    "print(f\"Livros relevantes reais: {true_likes}\")"
   ]
  },
  {
   "cell_type": "code",
   "execution_count": 389,
   "metadata": {},
   "outputs": [
    {
     "name": "stdout",
     "output_type": "stream",
     "text": [
      "Recomendações para '1st to Die: A Novel': ['1st to Die: A Novel', 'Along Came a Spider (Alex Cross Novels)', 'Lightning', 'While My Pretty One Sleeps', 'Remember Me', 'Night Whispers']\n",
      "Recomendações para 'The Bridges of Madison County': ['The Bridges of Madison County', 'Mirror Image', '4 Blondes', 'Fall On Your Knees (Oprah #45)', 'The King of Torts', \"Vinegar Hill (Oprah's Book Club (Paperback))\"]\n",
      "Recomendações para 'The Brethren': ['The Brethren', 'The Partner', 'Presumed Innocent', 'The Pelican Brief', 'The Testament', 'Red Storm Rising']\n",
      "Média Precisão@6: 0.8333333333333334, Média Recall@6: 0.012195121951219514\n"
     ]
    }
   ],
   "source": [
    "books_to_test = [\"1st to Die: A Novel\", \"The Bridges of Madison County\", \"The Brethren\"]\n",
    "precisions, recalls = [], []\n",
    "for book in books_to_test:\n",
    "    p, r, _ = evaluate_recommendations(book, model, train_data, book_pivot)\n",
    "    precisions.append(p)\n",
    "    recalls.append(r)\n",
    "print(f\"Média Precisão@6: {np.mean(precisions)}, Média Recall@6: {np.mean(recalls)}\")"
   ]
  },
  {
   "cell_type": "code",
   "execution_count": 390,
   "metadata": {},
   "outputs": [],
   "source": [
    "book_id = np.where(book_pivot.index == 'The Brethren')[0][0]\n",
    "distance, suggestions = model.kneighbors(book_pivot.iloc[book_id,:].values.reshape(1, -1), n_neighbors=6)"
   ]
  },
  {
   "cell_type": "code",
   "execution_count": 391,
   "metadata": {},
   "outputs": [
    {
     "name": "stdout",
     "output_type": "stream",
     "text": [
      "[[273 329 364 330 219 278]]\n"
     ]
    }
   ],
   "source": [
    "print(suggestions)"
   ]
  },
  {
   "cell_type": "code",
   "execution_count": 392,
   "metadata": {},
   "outputs": [],
   "source": [
    "def recomendation(book_title):\n",
    "    book_id = np.where(book_pivot.index == book_title)[0][0]\n",
    "    distance, suggestions = model.kneighbors(book_pivot.iloc[book_id,:].values.reshape(1, -1), n_neighbors=6)\n",
    "    for i in range(len(suggestions)):\n",
    "        books = (book_pivot.index[suggestions[i]])\n",
    "        for j in books:\n",
    "            print(j)"
   ]
  },
  {
   "cell_type": "code",
   "execution_count": 393,
   "metadata": {},
   "outputs": [
    {
     "name": "stdout",
     "output_type": "stream",
     "text": [
      "1st to Die: A Novel\n",
      "Along Came a Spider (Alex Cross Novels)\n",
      "Cradle and All\n",
      "Lightning\n",
      "Remember Me\n",
      "The Summons\n"
     ]
    }
   ],
   "source": [
    "book_title = '1st to Die: A Novel'\n",
    "recomendation(book_title)"
   ]
  }
 ],
 "metadata": {
  "kernelspec": {
   "display_name": "Python 3",
   "language": "python",
   "name": "python3"
  },
  "language_info": {
   "codemirror_mode": {
    "name": "ipython",
    "version": 3
   },
   "file_extension": ".py",
   "mimetype": "text/x-python",
   "name": "python",
   "nbconvert_exporter": "python",
   "pygments_lexer": "ipython3",
   "version": "3.12.5"
  }
 },
 "nbformat": 4,
 "nbformat_minor": 2
}
